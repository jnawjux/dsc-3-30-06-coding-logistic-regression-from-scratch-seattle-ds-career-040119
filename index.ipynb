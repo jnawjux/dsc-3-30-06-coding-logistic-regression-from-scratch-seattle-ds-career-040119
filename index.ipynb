{
 "cells": [
  {
   "cell_type": "markdown",
   "metadata": {},
   "source": [
    "# Coding Logistic Regression From Scratch - Lab\n",
    "\n",
    "## Introduction\n",
    "\n",
    "In this lab, you'll practice your ability to translate mathematical algorithms into python functions. This will deepen and solidify your understanding of the logistic regression!\n",
    "\n",
    "## Objectives\n",
    "\n",
    "You will be able to:\n",
    "* Understand and implement logistic regression"
   ]
  },
  {
   "cell_type": "markdown",
   "metadata": {},
   "source": [
    "## Overview\n",
    "\n",
    "Recall that the logistic regression algorithm take our previous intuition from logistic regression. In logistic regression, we start by taking our input data, X and multiplying it by a vector of weights for each of the individual features, which produces our output y. Afterwards we'll work on using an iterative approach via gradient descent to tune these weights."
   ]
  },
  {
   "cell_type": "markdown",
   "metadata": {},
   "source": [
    "## Linear Regression Setup\n",
    "\n",
    "Write a simple function `predict_y` that takes in a matrix `X` of observations and a vector of feature weights `w` and outputs a vector of predictions for the various observations.\n",
    "\n",
    "Recall that this is the sum of the product of each of the feature observations and their corresponding feature weights:  \n",
    "$ \\hat{y}_i = X_{i1} \\bullet w_1 + X_{i2} \\bullet w_2 + X_{i3} \\bullet w_3 + ... + X_{in} \\bullet w_n$\n",
    "\n",
    "Hint: think about which mathematical operation we previously discussed that will take a matrix (X) and multiply it by a vector of weights (w) to succinctly do this in a single operation."
   ]
  },
  {
   "cell_type": "code",
   "execution_count": 15,
   "metadata": {},
   "outputs": [],
   "source": [
    "#Your code here\n",
    "def predict_y(x, w):\n",
    "    return sum([xi * w for xi in x])"
   ]
  },
  {
   "cell_type": "markdown",
   "metadata": {},
   "source": [
    "## The Sigmoid Function\n",
    "\n",
    "Recall that the sigmoid function is used to map our previous linear regression model to a range of 0 to 1, satisfying basic premises of probability. As a reminder, the sigmoid function is defined by:  \n",
    "$\\frac{1}{1+e^(-x)}$  \n",
    "Write this as a python function where x is the input and the function outputs the result of the sigmoid function."
   ]
  },
  {
   "cell_type": "code",
   "execution_count": 16,
   "metadata": {},
   "outputs": [],
   "source": [
    "import numpy as np\n",
    "#Your code here\n",
    "def sigmoid(x):\n",
    "    return 1 / (1 + np.exp(-x))"
   ]
  },
  {
   "cell_type": "markdown",
   "metadata": {},
   "source": [
    "## Graphing the Sigmoid\n",
    "\n",
    "For good measure, let's do a brief investigation of your new function. Graph the output of your sigmoid function using 10,000 X values evenly spaced from -20 to 20."
   ]
  },
  {
   "cell_type": "code",
   "execution_count": 17,
   "metadata": {},
   "outputs": [
    {
     "data": {
      "text/plain": [
       "[<matplotlib.lines.Line2D at 0x7fecf65bb198>]"
      ]
     },
     "execution_count": 17,
     "metadata": {},
     "output_type": "execute_result"
    },
    {
     "data": {
      "image/png": "[encoded data removed]",
      "text/plain": [
       "<Figure size 432x288 with 1 Axes>"
      ]
     },
     "metadata": {
      "needs_background": "light"
     },
     "output_type": "display_data"
    }
   ],
   "source": [
    "import matplotlib.pyplot as plt\n",
    "%matplotlib inline\n",
    "#Your code here\n",
    "x  = np.linspace(start=-20, stop=20, num=10000)\n",
    "y = sigmoid(x)\n",
    "plt.plot(x,y)"
   ]
  },
  {
   "cell_type": "markdown",
   "metadata": {},
   "source": [
    "## Gradient Descent with the Sigmoid Function\n",
    "\n",
    "Recall that gradient descent is a numerical method for finding a minimum to a cost function. In the case of logistic regression, we are looking to minimize the error between our model's predictions and the actual data labels. To do this, we first calculate an error vector based on the current model's feature weights. We then multiply the transpose of the training matrix itself by this error vector in order to obtain the gradient. Finally, we take the gradient, multiply it by our step size and add this to our current weight vector to update it. Below, write such a function. It will take 5 inputs:  \n",
    "* X\n",
    "* y\n",
    "* max_iterations\n",
    "* alpha (the step size)\n",
    "* initial_weights  \n",
    "By default, have your function set the initial_weights parameter to a vector where all feature weights are set to 1."
   ]
  },
  {
   "cell_type": "code",
   "execution_count": 22,
   "metadata": {},
   "outputs": [],
   "source": [
    "# Your code here\n",
    "def grad_desc(X, y, max_interactions, alpha, initial_weights=None):\n",
    "    \"\"\"Be sure to set default behavior for the initial_weights parameter.\"\"\"\n",
    "    w = np.ones(X.shape[1])\n",
    "    w_cols = pd.DataFrame(w)\n",
    "    #Create a for loop of iterations\n",
    "    for i in range(max_interactions):\n",
    "        #Generate predictions using the current feature weights\n",
    "        y_pred = sigmoid(np.dot(X,w))\n",
    "        #Calculate an error vector based on these initial predictions and the correct labels\n",
    "        error_vector = y - y_pred\n",
    "        #Calculate the gradient \n",
    "        #As we saw in the previous lab, calculating the gradient is often the most difficult task.\n",
    "        #Here, your are provided with the closed form solution for the gradient of the log-loss function derived from MLE\n",
    "        #For more details on the derivation, see the additional resources section below.\n",
    "        gradient = np.dot(X.transpose(),error_vector) \n",
    "        #Update the weight vector take a step of alpha in direction of gradient\n",
    "        w += alpha * gradient\n",
    "        w_cols = pd.concat([w_cols, pd.DataFrame(w)], axis=1)\n",
    "        \n",
    "    #Return finalized Weights\n",
    "    return w, w_cols"
   ]
  },
  {
   "cell_type": "markdown",
   "metadata": {},
   "source": [
    "## Running Your Algorithm\n",
    "\n",
    "Now that we've coded everything from the ground up, we can further investigate the convergence behavior of our gradient descent algorithm. Remember that gradient descent does not gaurantee a global minimum, only a local minimum, and that small deviations in the starting point or step size can lead to different outputs.  \n",
    "  \n",
    "Let's begin by running our algorithm and plotting the successive weights of the features through iterations. Below is a dataset, with X and y predefined for you. Use your logistic regression function to find train a model. As the model trains, record the iteration cycle of the gradient descent algorithm and the weights of the various features. Then, plot this data on subplots for each of the individual features. Each graph should have the iteration number on the x-axis and the value of that feature weight for that iteration cycle on the y-axis. This will visually display how the algorithm is adjusting the weights over successive iterations, and hopefully show convergence on stable weights."
   ]
  },
  {
   "cell_type": "code",
   "execution_count": 23,
   "metadata": {},
   "outputs": [
    {
     "name": "stdout",
     "output_type": "stream",
     "text": [
      "1.0    165\n",
      "0.0    138\n",
      "Name: target, dtype: int64\n"
     ]
    },
    {
     "data": {
      "text/html": [
       "<div>\n",
       "<style scoped>\n",
       "    .dataframe tbody tr th:only-of-type {\n",
       "        vertical-align: middle;\n",
       "    }\n",
       "\n",
       "    .dataframe tbody tr th {\n",
       "        vertical-align: top;\n",
       "    }\n",
       "\n",
       "    .dataframe thead th {\n",
       "        text-align: right;\n",
       "    }\n",
       "</style>\n",
       "<table border=\"1\" class=\"dataframe\">\n",
       "  <thead>\n",
       "    <tr style=\"text-align: right;\">\n",
       "      <th></th>\n",
       "      <th>age</th>\n",
       "      <th>sex</th>\n",
       "      <th>cp</th>\n",
       "      <th>trestbps</th>\n",
       "      <th>chol</th>\n",
       "      <th>fbs</th>\n",
       "      <th>restecg</th>\n",
       "      <th>thalach</th>\n",
       "      <th>exang</th>\n",
       "      <th>oldpeak</th>\n",
       "      <th>slope</th>\n",
       "      <th>ca</th>\n",
       "      <th>thal</th>\n",
       "    </tr>\n",
       "  </thead>\n",
       "  <tbody>\n",
       "    <tr>\n",
       "      <th>0</th>\n",
       "      <td>0.708333</td>\n",
       "      <td>1.0</td>\n",
       "      <td>1.000000</td>\n",
       "      <td>0.481132</td>\n",
       "      <td>0.244292</td>\n",
       "      <td>1.0</td>\n",
       "      <td>0.0</td>\n",
       "      <td>0.603053</td>\n",
       "      <td>0.0</td>\n",
       "      <td>0.370968</td>\n",
       "      <td>0.0</td>\n",
       "      <td>0.0</td>\n",
       "      <td>0.333333</td>\n",
       "    </tr>\n",
       "    <tr>\n",
       "      <th>1</th>\n",
       "      <td>0.166667</td>\n",
       "      <td>1.0</td>\n",
       "      <td>0.666667</td>\n",
       "      <td>0.339623</td>\n",
       "      <td>0.283105</td>\n",
       "      <td>0.0</td>\n",
       "      <td>0.5</td>\n",
       "      <td>0.885496</td>\n",
       "      <td>0.0</td>\n",
       "      <td>0.564516</td>\n",
       "      <td>0.0</td>\n",
       "      <td>0.0</td>\n",
       "      <td>0.666667</td>\n",
       "    </tr>\n",
       "    <tr>\n",
       "      <th>2</th>\n",
       "      <td>0.250000</td>\n",
       "      <td>0.0</td>\n",
       "      <td>0.333333</td>\n",
       "      <td>0.339623</td>\n",
       "      <td>0.178082</td>\n",
       "      <td>0.0</td>\n",
       "      <td>0.0</td>\n",
       "      <td>0.770992</td>\n",
       "      <td>0.0</td>\n",
       "      <td>0.225806</td>\n",
       "      <td>1.0</td>\n",
       "      <td>0.0</td>\n",
       "      <td>0.666667</td>\n",
       "    </tr>\n",
       "    <tr>\n",
       "      <th>3</th>\n",
       "      <td>0.562500</td>\n",
       "      <td>1.0</td>\n",
       "      <td>0.333333</td>\n",
       "      <td>0.245283</td>\n",
       "      <td>0.251142</td>\n",
       "      <td>0.0</td>\n",
       "      <td>0.5</td>\n",
       "      <td>0.816794</td>\n",
       "      <td>0.0</td>\n",
       "      <td>0.129032</td>\n",
       "      <td>1.0</td>\n",
       "      <td>0.0</td>\n",
       "      <td>0.666667</td>\n",
       "    </tr>\n",
       "    <tr>\n",
       "      <th>4</th>\n",
       "      <td>0.583333</td>\n",
       "      <td>0.0</td>\n",
       "      <td>0.000000</td>\n",
       "      <td>0.245283</td>\n",
       "      <td>0.520548</td>\n",
       "      <td>0.0</td>\n",
       "      <td>0.5</td>\n",
       "      <td>0.702290</td>\n",
       "      <td>1.0</td>\n",
       "      <td>0.096774</td>\n",
       "      <td>1.0</td>\n",
       "      <td>0.0</td>\n",
       "      <td>0.666667</td>\n",
       "    </tr>\n",
       "  </tbody>\n",
       "</table>\n",
       "</div>"
      ],
      "text/plain": [
       "        age  sex        cp  trestbps      chol  fbs  restecg   thalach  exang  \\\n",
       "0  0.708333  1.0  1.000000  0.481132  0.244292  1.0      0.0  0.603053    0.0   \n",
       "1  0.166667  1.0  0.666667  0.339623  0.283105  0.0      0.5  0.885496    0.0   \n",
       "2  0.250000  0.0  0.333333  0.339623  0.178082  0.0      0.0  0.770992    0.0   \n",
       "3  0.562500  1.0  0.333333  0.245283  0.251142  0.0      0.5  0.816794    0.0   \n",
       "4  0.583333  0.0  0.000000  0.245283  0.520548  0.0      0.5  0.702290    1.0   \n",
       "\n",
       "    oldpeak  slope   ca      thal  \n",
       "0  0.370968    0.0  0.0  0.333333  \n",
       "1  0.564516    0.0  0.0  0.666667  \n",
       "2  0.225806    1.0  0.0  0.666667  \n",
       "3  0.129032    1.0  0.0  0.666667  \n",
       "4  0.096774    1.0  0.0  0.666667  "
      ]
     },
     "execution_count": 23,
     "metadata": {},
     "output_type": "execute_result"
    }
   ],
   "source": [
    "import pandas as pd\n",
    "df = pd.read_csv('heart.csv')\n",
    "X = df[df.columns[:-1]]\n",
    "y = df.target\n",
    "print(y.value_counts())\n",
    "X.head()"
   ]
  },
  {
   "cell_type": "markdown",
   "metadata": {},
   "source": [
    "## sci-kit learn\n",
    "\n",
    "For comparison, import sci-kit learn's standard LogisticRegression function. Initialize a regression object with **no intercept** and with **C=1e16** or another very high number. The reason is as follows: our implementation has not used an intercept, and we have not performed any regularization such as Lasso or Ridge (sci-kit learn uses l2 by default). The high value of C will essentially negate this.\n",
    "\n",
    "After initializing a regression object, fit it to X and y."
   ]
  },
  {
   "cell_type": "code",
   "execution_count": 24,
   "metadata": {},
   "outputs": [
    {
     "name": "stdout",
     "output_type": "stream",
     "text": [
      "age: -0.23563396235392112\n",
      "sex: -1.7582080467882406\n",
      "cp: 2.5795897342608494\n",
      "trestbps: -2.0644240015441935\n",
      "chol: -2.0282117804786446\n",
      "fbs: 0.03488895896460924\n",
      "restecg: 0.9325181815621573\n",
      "thalach: 3.041092553811412\n",
      "exang: -0.9799153594219426\n",
      "oldpeak: -3.349768670560691\n",
      "slope: 1.1585609682380513\n",
      "ca: -3.0933609014053527\n",
      "thal: -2.7012952660499856\n"
     ]
    }
   ],
   "source": [
    "from sklearn.linear_model import LogisticRegression\n",
    "log_reg = LogisticRegression(C=1e16, solver='liblinear')\n",
    "\n",
    "log_reg.fit(X,y)\n",
    "for n,v in zip(X.columns.tolist(), log_reg.coef_.tolist()[0]):\n",
    "    print(f\"{n}: {v}\")"
   ]
  },
  {
   "cell_type": "markdown",
   "metadata": {},
   "source": [
    "## Compare the models\n",
    "\n",
    "Compare the coefficient weights of your model to that generated by sci-kit learn."
   ]
  },
  {
   "cell_type": "code",
   "execution_count": 26,
   "metadata": {},
   "outputs": [
    {
     "data": {
      "text/plain": [
       "(array([ 0.28785449, -0.03955315,  0.82216836,  0.5266152 ,  0.64887362,\n",
       "         0.78981152,  0.72733006,  0.37943242,  0.28358982,  0.67051901,\n",
       "         0.30692657,  0.61871565, -0.0483735 ]),\n",
       "            0         0         0         0         0         0         0  \\\n",
       " 0   0.999922  0.999922  0.999844  0.999765  0.999687  0.999609  0.999531   \n",
       " 1   0.999887  0.999887  0.999774  0.999661  0.999548  0.999435  0.999322   \n",
       " 2   0.999979  0.999979  0.999957  0.999936  0.999915  0.999893  0.999872   \n",
       " 3   0.999948  0.999948  0.999896  0.999844  0.999793  0.999741  0.999689   \n",
       " 4   0.999961  0.999961  0.999922  0.999884  0.999845  0.999806  0.999767   \n",
       " 5   0.999978  0.999978  0.999956  0.999934  0.999912  0.999890  0.999869   \n",
       " 6   0.999970  0.999970  0.999939  0.999909  0.999878  0.999848  0.999817   \n",
       " 7   0.999930  0.999930  0.999859  0.999789  0.999719  0.999649  0.999578   \n",
       " 8   0.999924  0.999924  0.999849  0.999773  0.999698  0.999622  0.999546   \n",
       " 9   0.999965  0.999965  0.999930  0.999895  0.999860  0.999825  0.999790   \n",
       " 10  0.999921  0.999921  0.999842  0.999763  0.999684  0.999606  0.999527   \n",
       " 11  0.999960  0.999960  0.999920  0.999880  0.999840  0.999800  0.999760   \n",
       " 12  0.999885  0.999885  0.999769  0.999654  0.999539  0.999423  0.999308   \n",
       " \n",
       "            0         0         0    ...            0         0         0  \\\n",
       " 0   0.999453  0.999375  0.999296    ...     0.288354  0.288299  0.288243   \n",
       " 1   0.999209  0.999096  0.998983    ...    -0.038817 -0.038899 -0.038981   \n",
       " 2   0.999851  0.999829  0.999808    ...     0.822259  0.822249  0.822238   \n",
       " 3   0.999637  0.999585  0.999533    ...     0.526949  0.526912  0.526875   \n",
       " 4   0.999729  0.999690  0.999651    ...     0.649116  0.649089  0.649062   \n",
       " 5   0.999847  0.999825  0.999803    ...     0.789980  0.789961  0.789942   \n",
       " 6   0.999787  0.999756  0.999726    ...     0.727511  0.727491  0.727471   \n",
       " 7   0.999508  0.999438  0.999367    ...     0.379828  0.379784  0.379740   \n",
       " 8   0.999471  0.999395  0.999320    ...     0.284142  0.284081  0.284020   \n",
       " 9   0.999755  0.999720  0.999685    ...     0.670772  0.670744  0.670716   \n",
       " 10  0.999448  0.999369  0.999290    ...     0.307358  0.307310  0.307262   \n",
       " 11  0.999720  0.999680  0.999640    ...     0.619016  0.618983  0.618949   \n",
       " 12  0.999193  0.999078  0.998962    ...    -0.047644 -0.047725 -0.047806   \n",
       " \n",
       "            0         0         0         0         0         0         0  \n",
       " 0   0.288188  0.288132  0.288077  0.288021  0.287966  0.287910  0.287854  \n",
       " 1  -0.039062 -0.039144 -0.039226 -0.039308 -0.039390 -0.039471 -0.039553  \n",
       " 2   0.822228  0.822218  0.822208  0.822198  0.822188  0.822178  0.822168  \n",
       " 3   0.526838  0.526801  0.526764  0.526726  0.526689  0.526652  0.526615  \n",
       " 4   0.649035  0.649008  0.648981  0.648954  0.648927  0.648901  0.648874  \n",
       " 5   0.789924  0.789905  0.789886  0.789868  0.789849  0.789830  0.789812  \n",
       " 6   0.727451  0.727431  0.727410  0.727390  0.727370  0.727350  0.727330  \n",
       " 7   0.379696  0.379652  0.379608  0.379564  0.379520  0.379476  0.379432  \n",
       " 8   0.283958  0.283897  0.283835  0.283774  0.283713  0.283651  0.283590  \n",
       " 9   0.670688  0.670660  0.670632  0.670603  0.670575  0.670547  0.670519  \n",
       " 10  0.307214  0.307166  0.307118  0.307070  0.307022  0.306975  0.306927  \n",
       " 11  0.618916  0.618883  0.618849  0.618816  0.618782  0.618749  0.618716  \n",
       " 12 -0.047887 -0.047968 -0.048049 -0.048130 -0.048211 -0.048293 -0.048374  \n",
       " \n",
       " [13 rows x 10001 columns])"
      ]
     },
     "execution_count": 26,
     "metadata": {},
     "output_type": "execute_result"
    }
   ],
   "source": [
    "# Your code here\n",
    "import numpy as np\n",
    "grad_desc(X, y, max_interactions=10000, alpha=.000001, initial_weights=None)"
   ]
  },
  {
   "cell_type": "markdown",
   "metadata": {},
   "source": [
    "## Level - Up\n",
    "\n",
    "Update the gradient descent algorithm to also return the prediction error after each iteration. Then rerun the algorithm and create a graph displaying the prediction errors versus the iteration number."
   ]
  },
  {
   "cell_type": "code",
   "execution_count": null,
   "metadata": {},
   "outputs": [],
   "source": [
    "# Your code here"
   ]
  },
  {
   "cell_type": "markdown",
   "metadata": {},
   "source": [
    "## Additional Resources\n",
    "\n",
    "If you want to see more of the mathematics behind the gradient derivation above, check out section 4.4.1 from the Elements of Statistical Learning which can be found here: https://web.stanford.edu/~hastie/ElemStatLearn//."
   ]
  },
  {
   "cell_type": "markdown",
   "metadata": {},
   "source": [
    "## Summary\n",
    "\n",
    "Congratulations! You just coded logistic regression from the ground up using NumPy! With this, you should have a fairly deep understanding of logistic regression and how the algorithm works! In the upcoming labs, we'll continue to explore this from a few more angles, plotting our data along with the decision boundary for our predictions."
   ]
  }
 ],
 "metadata": {
  "kernelspec": {
   "display_name": "Python 3",
   "language": "python",
   "name": "python3"
  },
  "language_info": {
   "codemirror_mode": {
    "name": "ipython",
    "version": 3
   },
   "file_extension": ".py",
   "mimetype": "text/x-python",
   "name": "python",
   "nbconvert_exporter": "python",
   "pygments_lexer": "ipython3",
   "version": "3.6.6"
  }
 },
 "nbformat": 4,
 "nbformat_minor": 2
}
